{
  "nbformat": 4,
  "nbformat_minor": 0,
  "metadata": {
    "colab": {
      "provenance": [],
      "gpuType": "T4"
    },
    "kernelspec": {
      "name": "python3",
      "display_name": "Python 3"
    },
    "language_info": {
      "name": "python"
    },
    "accelerator": "GPU"
  },
  "cells": [
    {
      "cell_type": "code",
      "source": [
        "from google.colab import drive\n",
        "drive.mount('/content/drive')"
      ],
      "metadata": {
        "colab": {
          "base_uri": "https://localhost:8080/"
        },
        "id": "WrQrXLRXSzAQ",
        "outputId": "51f1670f-0042-429a-ab23-1f779950cb91"
      },
      "execution_count": 1,
      "outputs": [
        {
          "output_type": "stream",
          "name": "stdout",
          "text": [
            "Mounted at /content/drive\n"
          ]
        }
      ]
    },
    {
      "cell_type": "code",
      "source": [
        "!pip install -q stardist"
      ],
      "metadata": {
        "id": "sI_S0B7VS0WA"
      },
      "execution_count": 2,
      "outputs": []
    },
    {
      "cell_type": "code",
      "source": [
        "import warnings\n",
        "warnings.filterwarnings(\"ignore\")"
      ],
      "metadata": {
        "id": "QOaWxxtaS0ol"
      },
      "execution_count": 3,
      "outputs": []
    },
    {
      "cell_type": "code",
      "source": [
        "import numpy as np\n",
        "import matplotlib.pyplot as plt\n",
        "import os\n",
        "import hashlib\n",
        "\n",
        "%matplotlib inline\n",
        "%config InlineBackend.figure_format = 'retina'\n",
        "\n",
        "from PIL import Image\n",
        "from csbdeep.utils import Path, normalize\n",
        "from csbdeep.utils.tf import keras_import\n",
        "keras = keras_import()\n",
        "\n",
        "from stardist import export_imagej_rois, random_label_cmap\n",
        "from stardist.models import StarDist2D\n",
        "\n",
        "np.random.seed(0)\n",
        "cmap = random_label_cmap()"
      ],
      "metadata": {
        "id": "Qm7PcG72S8Ax"
      },
      "execution_count": 4,
      "outputs": []
    },
    {
      "cell_type": "code",
      "source": [
        "!unzip /content/drive/MyDrive/Hepatoma-Project/Histopathology-Images.zip -d /content"
      ],
      "metadata": {
        "id": "HFsxLK4sTFll"
      },
      "execution_count": null,
      "outputs": []
    },
    {
      "cell_type": "code",
      "source": [
        "root_dir = '/content/Histopathology-Images'"
      ],
      "metadata": {
        "id": "FMpcx7EFdeAs"
      },
      "execution_count": 5,
      "outputs": []
    },
    {
      "cell_type": "code",
      "source": [
        "for cls in os.listdir(root_dir):\n",
        "  cls_path = os.path.join(root_dir, cls)\n",
        "  print(f\"Total {len(os.listdir(cls_path))} images present in the directory: {cls}\")"
      ],
      "metadata": {
        "colab": {
          "base_uri": "https://localhost:8080/"
        },
        "id": "Ufrm4jNidaoP",
        "outputId": "8ff9ee42-4fc9-44bf-f996-3380047becc1"
      },
      "execution_count": 6,
      "outputs": [
        {
          "output_type": "stream",
          "name": "stdout",
          "text": [
            "Total 80 images present in the directory: Samp3\n",
            "Total 187 images present in the directory: Samp4\n",
            "Total 57 images present in the directory: Samp1\n",
            "Total 261 images present in the directory: NonCancerous\n",
            "Total 88 images present in the directory: Samp2\n"
          ]
        }
      ]
    },
    {
      "cell_type": "code",
      "source": [
        "def hash_filename(filename):\n",
        "    \"\"\"Generate a hash for a given filename.\"\"\"\n",
        "    return hashlib.md5(filename.encode()).hexdigest()[:6]  # Shortened hash for simplicity\n",
        "\n",
        "def rename_files(root_dir):\n",
        "    \"\"\"Renames all files in subdirectories of root_dir with format '<categoryName>_image_<index>_<hash>'.\"\"\"\n",
        "    for subdir, _, files in os.walk(root_dir):\n",
        "        category_name = os.path.basename(subdir)  # Get category name from subdir name\n",
        "        index = 0\n",
        "        for filename in files:\n",
        "            file_hash = hash_filename(filename)\n",
        "            new_filename = f\"{category_name}_image_{index}_{file_hash}.jpg\"\n",
        "            os.rename(os.path.join(subdir, filename), os.path.join(subdir, new_filename))\n",
        "            index += 1\n",
        "\n",
        "rename_files(root_dir)\n",
        "print(f\"Files renamed in all subdirectories of {root_dir}\")"
      ],
      "metadata": {
        "colab": {
          "base_uri": "https://localhost:8080/"
        },
        "id": "AELm486JTFi3",
        "outputId": "50d5287e-99bb-4403-b74c-80a71e06f0ab"
      },
      "execution_count": 9,
      "outputs": [
        {
          "output_type": "stream",
          "name": "stdout",
          "text": [
            "Files renamed in all subdirectories of /content/Histopathology-Images\n"
          ]
        }
      ]
    },
    {
      "cell_type": "code",
      "source": [
        "for cls in os.listdir(root_dir):\n",
        "  cls_path = os.path.join(root_dir, cls)\n",
        "  print(f\"Total {len(os.listdir(cls_path))} images present in the directory: {cls}\")"
      ],
      "metadata": {
        "colab": {
          "base_uri": "https://localhost:8080/"
        },
        "id": "91qeNk0ccKx5",
        "outputId": "28f7ae63-19b6-4a69-f373-7c5ecd913477"
      },
      "execution_count": 10,
      "outputs": [
        {
          "output_type": "stream",
          "name": "stdout",
          "text": [
            "Total 80 images present in the directory: Samp3\n",
            "Total 187 images present in the directory: Samp4\n",
            "Total 57 images present in the directory: Samp1\n",
            "Total 261 images present in the directory: NonCancerous\n",
            "Total 88 images present in the directory: Samp2\n"
          ]
        }
      ]
    },
    {
      "cell_type": "code",
      "source": [
        "# Function to load image and convert to numpy array\n",
        "def load_image(img_path):\n",
        "    img = Image.open(img_path).resize((1600, 1600))\n",
        "    img = np.array(img)\n",
        "    return normalize(img, 1, 99.8)"
      ],
      "metadata": {
        "id": "GfacHImnS8zh"
      },
      "execution_count": 7,
      "outputs": []
    },
    {
      "cell_type": "code",
      "source": [
        "def segment_and_save_images(model, root_dir, save_dir, normalizer=None):\n",
        "    for category in [os.listdir(root_dir)[-1]]:\n",
        "        print(f\"Currently segmenting images from category: {category} !\")\n",
        "        os.makedirs(os.path.join(save_dir, category), exist_ok=True)\n",
        "        category_path = os.path.join(root_dir, category)\n",
        "        img_paths = []\n",
        "        img_names = []\n",
        "        for img in os.listdir(category_path):\n",
        "            img_paths.append(os.path.join(category_path, img))\n",
        "            img_names.append(img.split('.')[0])\n",
        "        images = [load_image(img_path) for img_path in img_paths]\n",
        "        for idx, img in enumerate(images):\n",
        "            try:\n",
        "                labels, _ = model.predict_instances(img, prob_thresh=0.20)\n",
        "                labels[labels > 0] = 1\n",
        "                labels = (labels * 255).astype('uint8')\n",
        "                # Convert the numpy array to an image\n",
        "                image = Image.fromarray(labels)\n",
        "                # Save the image\n",
        "                image.save(os.path.join(save_dir, category, f\"{img_names[idx]}.png\"))\n",
        "            except Exception as e:\n",
        "                print(f\"Image: {img_names[idx]} failed to be segmented due to following exception:\")\n",
        "                print(f\"------------------------------\\n{e}\\n------------------------------\")\n",
        "                pass\n",
        "\n",
        "        print(f\"Completed segmenting images from category: {category} !\\n\\n\")"
      ],
      "metadata": {
        "id": "4z8XtKU0S-bE"
      },
      "execution_count": 13,
      "outputs": []
    },
    {
      "cell_type": "code",
      "source": [
        "model = StarDist2D.from_pretrained('2D_versatile_he')\n",
        "\n",
        "root_dir = \"/content/Histopathology-Images\"\n",
        "save_dir = \"/content/Segmented-Images\"\n",
        "os.makedirs(save_dir, exist_ok=True)"
      ],
      "metadata": {
        "colab": {
          "base_uri": "https://localhost:8080/"
        },
        "id": "81ke9h8jTkFb",
        "outputId": "c70fee54-1bfd-4583-bec1-a31e34533569"
      },
      "execution_count": 14,
      "outputs": [
        {
          "output_type": "stream",
          "name": "stdout",
          "text": [
            "Found model '2D_versatile_he' for 'StarDist2D'.\n",
            "Loading network weights from 'weights_best.h5'.\n",
            "Loading thresholds from 'thresholds.json'.\n",
            "Using default values: prob_thresh=0.692478, nms_thresh=0.3.\n"
          ]
        }
      ]
    },
    {
      "cell_type": "code",
      "source": [
        "print(\"Starting Segmentation...\\n\\n\")\n",
        "segment_and_save_images(model, root_dir, save_dir)\n",
        "\n",
        "print(f\"Segmented and saved images to save directory: {save_dir} !\")"
      ],
      "metadata": {
        "colab": {
          "base_uri": "https://localhost:8080/"
        },
        "id": "QhB0H7_GTsNs",
        "outputId": "8dc992b7-4550-4d3c-bde0-1e82b3346f55"
      },
      "execution_count": 15,
      "outputs": [
        {
          "output_type": "stream",
          "name": "stdout",
          "text": [
            "Starting Segmentation...\n",
            "\n",
            "\n",
            "Currently segmenting images from category: Samp2 !\n",
            "Completed segmenting images from category: Samp2 !\n",
            "\n",
            "\n",
            "Segmented and saved images to save directory: /content/Segmented-Images !\n"
          ]
        }
      ]
    },
    {
      "cell_type": "code",
      "source": [
        "for cls in os.listdir(save_dir):\n",
        "  cls_path = os.path.join(save_dir, cls)\n",
        "  print(f\"Total {len(os.listdir(cls_path))} images present in the directory: {cls}\")"
      ],
      "metadata": {
        "colab": {
          "base_uri": "https://localhost:8080/"
        },
        "id": "5iJD3NqPhzc1",
        "outputId": "b92e79dc-5443-45e6-81b2-ae2987536ff1"
      },
      "execution_count": 16,
      "outputs": [
        {
          "output_type": "stream",
          "name": "stdout",
          "text": [
            "Total 80 images present in the directory: Samp3\n",
            "Total 187 images present in the directory: Samp4\n",
            "Total 57 images present in the directory: Samp1\n",
            "Total 261 images present in the directory: NonCancerous\n",
            "Total 88 images present in the directory: Samp2\n"
          ]
        }
      ]
    },
    {
      "cell_type": "code",
      "source": [
        "import os\n",
        "import zipfile\n",
        "\n",
        "def zip_folder(folder_path, output_path):\n",
        "    \"\"\"\n",
        "    Zips the contents of an entire folder (including the folder itself in the archive).\n",
        "    Empty subfolders will be included in the archive as well.\n",
        "    \"\"\"\n",
        "    # Ensure the output path ends with '.zip'\n",
        "    if not output_path.endswith('.zip'):\n",
        "        output_path += '.zip'\n",
        "\n",
        "    # Open the zip file in write mode\n",
        "    with zipfile.ZipFile(output_path, 'w', zipfile.ZIP_DEFLATED) as zipf:\n",
        "        # Walk through the folder structure\n",
        "        for root, dirs, files in os.walk(folder_path):\n",
        "            for file in files:\n",
        "                # Construct full file path\n",
        "                file_path = os.path.join(root, file)\n",
        "                # Calculate the relative path for the file\n",
        "                relative_path = os.path.relpath(file_path, start=os.path.join(folder_path, '..'))\n",
        "                # Add the file to the zip file\n",
        "                zipf.write(file_path, arcname=relative_path)\n",
        "            # Include empty directories\n",
        "            for dir in dirs:\n",
        "                dir_path = os.path.join(root, dir)\n",
        "                relative_dir_path = os.path.relpath(dir_path, start=os.path.join(folder_path, '..'))\n",
        "                zipf.write(dir_path, arcname=relative_dir_path)"
      ],
      "metadata": {
        "id": "FnfbYXMDTuwP"
      },
      "execution_count": 17,
      "outputs": []
    },
    {
      "cell_type": "code",
      "source": [
        "folder_to_zip = '/content/Segmented-Images'\n",
        "output_zip_path = '/content/Segmented-Images.zip'\n",
        "zip_folder(folder_to_zip, output_zip_path)"
      ],
      "metadata": {
        "id": "7cVR01CHTwb7"
      },
      "execution_count": 18,
      "outputs": []
    },
    {
      "cell_type": "code",
      "source": [],
      "metadata": {
        "id": "FWr2fUHfeQ6T"
      },
      "execution_count": null,
      "outputs": []
    }
  ]
}